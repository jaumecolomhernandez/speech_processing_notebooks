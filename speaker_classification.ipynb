{
 "cells": [
  {
   "cell_type": "markdown",
   "metadata": {},
   "source": [
    "# Speaker classification\n",
    "Implementation of a basic speaker classification system. It uses GMMS to model the speakers voice from MFCCs."
   ]
  },
  {
   "cell_type": "code",
   "execution_count": 15,
   "metadata": {},
   "outputs": [],
   "source": [
    "#IMPORTS\n",
    "import numpy as np\n",
    "import matplotlib.pyplot as plt\n",
    "from matplotlib import rcParams\n",
    "plt.style.use('ggplot')\n",
    "rcParams['figure.figsize'] = 16, 8\n",
    "\n",
    "from sklearn.mixture import GaussianMixture as GMM\n",
    "from sklearn.decomposition import PCA\n",
    "from sklearn import metrics\n",
    "\n",
    "import sys\n",
    "import os\n",
    "\n",
    "\n",
    "import glob\n",
    "import random\n",
    "\n",
    "import librosa\n",
    "import librosa.display"
   ]
  },
  {
   "cell_type": "code",
   "execution_count": 16,
   "metadata": {},
   "outputs": [],
   "source": [
    "#DEFINICIO VARIABLES \n",
    "base_path = '/home/jc/speech_processing_notebooks'    #Carpeta practica 4\n",
    "speecon_path = os.path.join(base_path,'audios','speecon')    #Carpeta Speecon\n",
    "temp_path = os.path.join(base_path,'exports')    #Carpeta exports"
   ]
  },
  {
   "cell_type": "code",
   "execution_count": 17,
   "metadata": {},
   "outputs": [],
   "source": [
    "def mfcc(files, n_coefs=16):\n",
    "    ''' Función genérica MFCC\n",
    "        Función genérica para calcular los coeficientes MFCC dada\n",
    "        una lista con los paths a los audios.\n",
    "        Utiliza la libreria librosa para leer el\n",
    "        audio y calcular los coeficientes.\n",
    "        Parametros:\n",
    "        - files: lista con los ficheros a computar\n",
    "        - n_coefs: int numero de coeficientes para el MFCC\n",
    "        Devuelve:\n",
    "        - base: np.array de tamaño Nxn_coefs con los coeficientes para cada trama'''\n",
    "    \n",
    "    #Inicializamos un array a ceros\n",
    "    base = np.zeros((1,n_coefs))\n",
    "    \n",
    "    for file_audio in files:\n",
    "        #Lectura del audio, remuestreamos a 8000Hz\n",
    "        audio, fs = librosa.core.load(file_audio, sr=8000)\n",
    "        #Calculo de los coefs\n",
    "        mfcc_raw = librosa.feature.mfcc(audio, sr=fs, n_mfcc=n_coefs).T\n",
    "        #Stack de la base de datos con los mfcc calculados\n",
    "        base = np.vstack((base,mfcc_raw))\n",
    "    \n",
    "    return base[1:] #El primero no lo devolvemos porqué son los ceros de inializacion"
   ]
  },
  {
   "cell_type": "code",
   "execution_count": 18,
   "metadata": {},
   "outputs": [],
   "source": [
    "def read_mfcc(path):\n",
    "    ''' Reads mfcc file from person\n",
    "        Parametros:\n",
    "        - path: path donde leer el mfcc\n",
    "    '''\n",
    "    mfcc = np.loadtxt(path, delimiter=',')\n",
    "    \n",
    "    return mfcc"
   ]
  },
  {
   "cell_type": "code",
   "execution_count": 19,
   "metadata": {},
   "outputs": [],
   "source": [
    "def classification_list(speecon):\n",
    "    ''' Crea listas para calcular los parámetros posteriormente\n",
    "        (actualmente lista todos los audios)\n",
    "        Para train usamos 3/4 partes de los audios y para test \n",
    "        1/4 partes de los audios'''\n",
    "    #Diccionario para contener los datos\n",
    "    classification_list = dict()\n",
    "    \n",
    "    #Iteramos la base de datos de speecon primero bloque a bloque \n",
    "    #y luego persona a persona\n",
    "    for block in os.listdir(speecon):\n",
    "        block_path = os.path.join(speecon,block)\n",
    "        \n",
    "        for ses in os.listdir(block_path):\n",
    "            ses_path = os.path.join(block_path,ses)\n",
    "            \n",
    "            all_files = glob.glob(f\"{ses_path}/*.wav\")\n",
    "            \n",
    "            #Para hacer el dataset cojemos 15 ficheros para entrenar y\n",
    "            #5 para el test\n",
    "            train_files = all_files[:15]\n",
    "            test_files = all_files[-5:]\n",
    "            \n",
    "            #Añadimos al diccionario\n",
    "            classification_list[ses[-3:]] = [train_files, test_files]\n",
    "            \n",
    "    return classification_list"
   ]
  },
  {
   "cell_type": "code",
   "execution_count": 20,
   "metadata": {},
   "outputs": [],
   "source": [
    "def compute_mfccs(paths_dict, n_coefs):\n",
    "    ''' Calculo de los MFCC\n",
    "        Le pasamos el diccionario generado por classification_list. Exporta los mfcc a CSV'''\n",
    "    #Paths para exportar\n",
    "    train_path = os.path.join(temp_path,'class','train')\n",
    "    test_path = os.path.join(temp_path,'class','test')\n",
    "    \n",
    "    os.makedirs(train_path, exist_ok=True)\n",
    "    os.makedirs(test_path, exist_ok=True)\n",
    "    \n",
    "    count = 0\n",
    "    \n",
    "    for person,paths in paths_dict.items():\n",
    "        #Para calcular el modelo de la persona usamos todos los\n",
    "        #audios de train\n",
    "        train_mfcc = mfcc(paths[0],n_coefs)\n",
    "        \n",
    "        save_path = os.path.join(train_path, person[-3:]+'.mfcc')\n",
    "        np.savetxt(save_path, train_mfcc, delimiter=\",\")\n",
    "        \n",
    "        #Pero para hacer el testeo usamos audio a audio\n",
    "        i = 0\n",
    "        for t_path in paths[1]:\n",
    "            os.makedirs(os.path.join(test_path, person), exist_ok=True)\n",
    "            save_path = os.path.join(test_path, person, f'audio{i}.mfcc')\n",
    "      \n",
    "            test_mfcc = mfcc([t_path],n_coefs)\n",
    "            np.savetxt(save_path, test_mfcc, delimiter=\",\")\n",
    "            i = i+1\n",
    "        count += 1\n",
    "        if not count%10 : print(f'Persona {count} calculada')\n",
    "        "
   ]
  },
  {
   "cell_type": "code",
   "execution_count": 21,
   "metadata": {},
   "outputs": [],
   "source": [
    "def train_gmm(n_gmms,train_path):\n",
    "    ''' Entrnament de les gmm\n",
    "        Retorna:\n",
    "        - trained_gmm: diccionari amb els noms i les gmms\n",
    "    '''\n",
    "    #train_path = os.path.join(temp_path,'mfcc','train')\n",
    "    files_train = glob.glob(f\"{train_path}/*.mfcc\")\n",
    "    \n",
    "    trained_gmm = dict()\n",
    "    \n",
    "    for mfcc_path in files_train:\n",
    "        \n",
    "        mfcc = read_mfcc(mfcc_path)\n",
    "        \n",
    "        gmm=GMM(n_gmms, n_init=2).fit(mfcc) \n",
    "        person = mfcc_path[-8:-5]\n",
    "        trained_gmm[person] = gmm\n",
    "        \n",
    "    return trained_gmm"
   ]
  },
  {
   "cell_type": "code",
   "execution_count": 22,
   "metadata": {},
   "outputs": [],
   "source": [
    "def classification(gmms, test_path):\n",
    "    ''' Classificació dels audios de test_path\n",
    "        Parametres:\n",
    "        - gmms: llista de gmms que retorna train_gmm()\n",
    "        - test_path: carpeta on hi ha els fitxers de test\n",
    "        Retorna:\n",
    "        - assigned: llista amb assignacions de prediccions\n",
    "    '''\n",
    "    trained_gmms = gmms\n",
    "    assigned = list()\n",
    "    test_files = glob.glob(f\"{test_path}/*/*.mfcc\")\n",
    "    \n",
    "    for traza in test_files:\n",
    "        max_score = None\n",
    "        predicted_person = None\n",
    "        read = read_mfcc(traza)\n",
    "        correct_person = traza[-15:-12]\n",
    "        for key, gmm in trained_gmm.items():\n",
    "            score = gmm.score(read)\n",
    "            if (max_score==None) or (score>max_score):\n",
    "                max_score = score\n",
    "                predicted_person = key\n",
    "                \n",
    "        assigned.append([correct_person,predicted_person])\n",
    "    return assigned"
   ]
  },
  {
   "cell_type": "code",
   "execution_count": 23,
   "metadata": {},
   "outputs": [],
   "source": [
    "def precision(assigned):\n",
    "    ''' Lectura dels mfcc d'una llista\n",
    "    '''\n",
    "    count = 0\n",
    "    for prediction in assigned:\n",
    "        if prediction[0] == prediction[1]:\n",
    "            count = count + 1\n",
    "    precision = count/len(assigned)\n",
    "    \n",
    "    print(f'Correct: {count}/{len(assigned)} Uncorrect: {len(assigned)-count}/{len(assigned)} Precision: {precision}')\n",
    "    \n",
    "    return precision"
   ]
  },
  {
   "cell_type": "markdown",
   "metadata": {},
   "source": [
    "Path definition"
   ]
  },
  {
   "cell_type": "code",
   "execution_count": 24,
   "metadata": {},
   "outputs": [],
   "source": [
    "train_path = os.path.join(temp_path,'class','train')\n",
    "test_path = os.path.join(temp_path,'class','test')"
   ]
  },
  {
   "cell_type": "markdown",
   "metadata": {},
   "source": [
    "Create lists to calculate features"
   ]
  },
  {
   "cell_type": "code",
   "execution_count": 25,
   "metadata": {},
   "outputs": [],
   "source": [
    "c_list = classification_list(speecon_path)"
   ]
  },
  {
   "cell_type": "markdown",
   "metadata": {},
   "source": [
    "MFCC computation given a list"
   ]
  },
  {
   "cell_type": "code",
   "execution_count": 27,
   "metadata": {},
   "outputs": [
    {
     "name": "stdout",
     "output_type": "stream",
     "text": [
      "Persona 10 calculada\n",
      "Persona 20 calculada\n",
      "Persona 30 calculada\n",
      "Persona 40 calculada\n",
      "Persona 50 calculada\n",
      "Persona 60 calculada\n",
      "Persona 70 calculada\n",
      "Persona 80 calculada\n",
      "Persona 90 calculada\n",
      "Persona 100 calculada\n",
      "Persona 110 calculada\n",
      "Persona 120 calculada\n",
      "Persona 130 calculada\n",
      "Persona 140 calculada\n",
      "Persona 150 calculada\n"
     ]
    }
   ],
   "source": [
    "compute_mfccs(c_list, 16)"
   ]
  },
  {
   "cell_type": "markdown",
   "metadata": {},
   "source": [
    "GMM training"
   ]
  },
  {
   "cell_type": "code",
   "execution_count": 28,
   "metadata": {},
   "outputs": [],
   "source": [
    "trained_gmm = train_gmm(n_gmms = 6, train_path = train_path)"
   ]
  },
  {
   "cell_type": "markdown",
   "metadata": {},
   "source": [
    "Audio classification"
   ]
  },
  {
   "cell_type": "code",
   "execution_count": 29,
   "metadata": {},
   "outputs": [],
   "source": [
    "assigments = classification(trained_gmm, test_path)"
   ]
  },
  {
   "cell_type": "markdown",
   "metadata": {},
   "source": [
    "Results calculation "
   ]
  },
  {
   "cell_type": "code",
   "execution_count": 30,
   "metadata": {},
   "outputs": [
    {
     "name": "stdout",
     "output_type": "stream",
     "text": [
      "Correct: 774/785 Uncorrect: 11/785 Precision: 0.9859872611464968\n"
     ]
    }
   ],
   "source": [
    "precision_v = precision(assigments)"
   ]
  }
 ],
 "metadata": {
  "kernelspec": {
   "display_name": "Python 3",
   "language": "python",
   "name": "python3"
  },
  "language_info": {
   "codemirror_mode": {
    "name": "ipython",
    "version": 3
   },
   "file_extension": ".py",
   "mimetype": "text/x-python",
   "name": "python",
   "nbconvert_exporter": "python",
   "pygments_lexer": "ipython3",
   "version": "3.7.3"
  }
 },
 "nbformat": 4,
 "nbformat_minor": 2
}
