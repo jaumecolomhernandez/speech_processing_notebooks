{
 "cells": [
  {
   "cell_type": "markdown",
   "metadata": {},
   "source": [
    "# Speaker clustering"
   ]
  },
  {
   "cell_type": "code",
   "execution_count": 5,
   "metadata": {},
   "outputs": [],
   "source": [
    "#IMPORTS\n",
    "import numpy as np\n",
    "import matplotlib.pyplot as plt\n",
    "from matplotlib import rcParams\n",
    "plt.style.use('ggplot')\n",
    "rcParams['figure.figsize'] = 16, 8\n",
    "\n",
    "from sklearn.mixture import GaussianMixture as GMM\n",
    "from sklearn.decomposition import PCA\n",
    "from sklearn import metrics\n",
    "\n",
    "import sys\n",
    "import os\n",
    "import glob\n",
    "import random\n",
    "\n",
    "import librosa\n",
    "import librosa.display"
   ]
  },
  {
   "cell_type": "code",
   "execution_count": 6,
   "metadata": {},
   "outputs": [],
   "source": [
    "#DEFINICIO VARIABLES \n",
    "base_path = '/home/jc/pav/practica4'    #Carpeta practica 4\n",
    "speecon_path = os.path.join(base_path,'audios','speecon')    #Carpeta Speecon\n",
    "temp_path = os.path.join(base_path,'exports')    #Carpeta exports"
   ]
  },
  {
   "cell_type": "code",
   "execution_count": null,
   "metadata": {},
   "outputs": [],
   "source": []
  },
  {
   "cell_type": "code",
   "execution_count": 15,
   "metadata": {},
   "outputs": [],
   "source": [
    "def mfcc(files, n_coefs=16):\n",
    "    ''' Función genérica MFCC\n",
    "        Función genérica para calcular los coeficientes MFCC dada\n",
    "        una lista con los paths a los audios.\n",
    "        Utiliza la libreria librosa para leer el\n",
    "        audio y calcular los coeficientes.\n",
    "        Parametros:\n",
    "        - files: lista con los ficheros a computar\n",
    "        - n_coefs: int numero de coeficientes para el MFCC\n",
    "        Devuelve:\n",
    "        - base: np.array de tamaño Nxn_coefs con los coeficientes para cada trama'''\n",
    "    \n",
    "    #Inicializamos un array a ceros\n",
    "    base = np.zeros((1,n_coefs))\n",
    "    \n",
    "    for file_audio in files:\n",
    "        #Lectura del audio, remuestreamos a 8000Hz\n",
    "        audio, fs = librosa.core.load(file_audio, sr=8000)\n",
    "        #Calculo de los coefs\n",
    "        mfcc_raw = librosa.feature.mfcc(audio, sr=fs, n_mfcc=n_coefs).T\n",
    "        #Stack de la base de datos con los mfcc calculados\n",
    "        base = np.vstack((base,mfcc_raw))\n",
    "    \n",
    "    return base[1:] #El primero no lo devolvemos porqué son los ceros de inializacion"
   ]
  },
  {
   "cell_type": "code",
   "execution_count": 16,
   "metadata": {},
   "outputs": [],
   "source": [
    "def read_mfcc(path):\n",
    "    ''' Reads mfcc file from person\n",
    "        Parametros:\n",
    "        - path: path donde leer el mfcc\n",
    "    '''\n",
    "    mfcc = np.loadtxt(path, delimiter=',')\n",
    "    \n",
    "    return mfcc"
   ]
  },
  {
   "cell_type": "code",
   "execution_count": null,
   "metadata": {},
   "outputs": [],
   "source": []
  },
  {
   "cell_type": "code",
   "execution_count": null,
   "metadata": {},
   "outputs": [],
   "source": []
  },
  {
   "cell_type": "code",
   "execution_count": 7,
   "metadata": {},
   "outputs": [],
   "source": [
    "def compute_mfccs(audiolist,n_coefs):\n",
    "    ''' Calculo de los MFFCs (contenemos todos los datos en memoria)'''\n",
    "    # Contenedor de datos\n",
    "    audio_mfcc = list()\n",
    "    \n",
    "    # Iteramos todos los audios de la lista\n",
    "    for audio in audiolist:\n",
    "        audio_mfcc.append(mfcc([audio],n_coefs))\n",
    "    return audio_mfcc"
   ]
  },
  {
   "cell_type": "code",
   "execution_count": 8,
   "metadata": {},
   "outputs": [],
   "source": [
    "def compute_gmms(mfcc_list,n_gmms):\n",
    "    ''' Calculo de las GMMs'''\n",
    "    # Contenedor de datos\n",
    "    audio_gmm = list()\n",
    "    \n",
    "    # Iteramos todas las mfcc de la lista\n",
    "    for mfcc_a in mfcc_list:\n",
    "        gmm=GMM(n_gmms, n_init=2).fit(mfcc_a) \n",
    "        audio_gmm.append(gmm)\n",
    "    \n",
    "    return audio_gmm"
   ]
  },
  {
   "cell_type": "code",
   "execution_count": 9,
   "metadata": {},
   "outputs": [],
   "source": [
    "def compute_matrix(mfcc_list,gmm_list):\n",
    "    ''' Calculo de la matriz\n",
    "        Calculamos la score de cada audio para cada gmm, \n",
    "        con esto obtenemos una matriz (NxN)\n",
    "    '''\n",
    "    \n",
    "    # Obtenemos el tamaño de la lista de mfcc\n",
    "    l = len(mfcc_list)\n",
    "    # Inicializamos matriz a ceros\n",
    "    data = np.zeros([l,l])\n",
    "\n",
    "    # Iteramos la matriz y la llenamos con los datos\n",
    "    for i in range(0,l):\n",
    "        for j in range(0,l):\n",
    "            # Calculo de la score del audio con la gmm en concreto\n",
    "            data[i,j] = gmm_list[i].score(mfcc_list[j]) \n",
    "    \n",
    "        #data[i,:] = data[i,:]/(-sum(data[i,:])/l)\n",
    "    \n",
    "    return data"
   ]
  },
  {
   "cell_type": "code",
   "execution_count": 10,
   "metadata": {},
   "outputs": [],
   "source": [
    "def plot_data(data):\n",
    "    ''' Plot matriz imshow()'''\n",
    "    plt.figure(figsize=(10,10))\n",
    "    plt.imshow(data);\n",
    "    plt.colorbar()\n",
    "    plt.show()"
   ]
  },
  {
   "cell_type": "code",
   "execution_count": 11,
   "metadata": {},
   "outputs": [],
   "source": [
    "def update_mfcc(pos, mfcc_list):\n",
    "    ''' Actualización del contenedor de MFFCs\n",
    "        Concatena los dos segmentos que unimos y saca\n",
    "        de la lista el segundo componente'''\n",
    "    mfcc_list[pos[0]] = np.concatenate((mfcc_list[pos[0]],mfcc_list[pos[1]]))\n",
    "    mfcc_list.pop(pos[1])\n",
    "    \n",
    "    return mfcc_list"
   ]
  },
  {
   "cell_type": "code",
   "execution_count": 12,
   "metadata": {},
   "outputs": [],
   "source": [
    "def find_max(data,n):\n",
    "    ''' Busqueda del maximo en la matriz data\n",
    "        Esta función busca el valor máximo en la matriz para \n",
    "        juntar los datos en la siguiente iteración.\n",
    "        Definimos unas normas para optimizar el resultado, las dos \n",
    "        más importantes són; \n",
    "        - Si es una diagonal, indice i y j igual no\n",
    "        lo contamos ya que es el mismo audio. \n",
    "        - No se pueden juntar dos grupos grandes (6>) de audios, \n",
    "        así evitamos crear un grupo gigante que contenga todos los audios.\n",
    "        Parametros: \n",
    "        - data: Matriz de datos\n",
    "        - n: Lista con los grupos que se van formando\n",
    "        Devuelve:\n",
    "        - Pos: Lista de dos valores que contiene el indice i y j del valor\n",
    "        máximo, ordenado en orden ascendente.\n",
    "    '''\n",
    "    # Valor que comparamos\n",
    "    m = None\n",
    "    # Variable de la posición\n",
    "    pos = None\n",
    "    \n",
    "    # Lista con los tamaños de los clusters\n",
    "    sizes = [len(n[c]) for c in range(0,len(n))]\n",
    "    # Lista con los tamaños de los clusters en orden ascendente\n",
    "    sorted_sizes = sorted(sizes,reverse=True)\n",
    "    \n",
    "    # Iteramos la matriz de datos\n",
    "    for i in range(0,data.shape[0]):\n",
    "        for j in range(0,data.shape[1]):\n",
    "            \n",
    "            # Batería de filtros\n",
    "            if i==j : break\n",
    "            #if ((sizes[i]>2) or (sizes[j]>2)) and (((sizes[i]*1.2)<sizes[j]) or (sizes[i]>(1.2*sizes[j]))): break\n",
    "            #if (i==no) or (j==no): break\n",
    "            #if (max(sizes)>6) and (i==sizes.index(sorted_sizes[0]) and j==sizes.index(sorted_sizes[1])): \n",
    "                #print(i,sizes.index(sorted_sizes[0]),j,sizes.index(sorted_sizes[1]))\n",
    "                #break\n",
    "            if (max(sizes)>6) and (((i==0) and (j==1)) or ((i==1) and (j==0))): break\n",
    "            #if (i==sizes.index(sorted_sizes[0])) and (j==sizes.index(sorted_sizes[1])): \n",
    "            #    print(i,sizes.index(sorted_sizes[0]),j,sizes.index(sorted_sizes[1]))\n",
    "            #    break\n",
    "            \n",
    "            # Miramos si encontramos un máximo\n",
    "            if (m==None) or (m<data[i,j]):\n",
    "                m = data[i,j]\n",
    "                pos = [i,j]\n",
    "    \n",
    "    # Devolvemos los datos\n",
    "    return [min(pos),max(pos)]"
   ]
  },
  {
   "cell_type": "code",
   "execution_count": 13,
   "metadata": {},
   "outputs": [],
   "source": [
    "def clustering(person1,person2,show=True):\n",
    "    ''' Clustering de los audios'''\n",
    "    # Lectura de los ficheros a detectar\n",
    "    audio1 = glob.glob(person1+'/*.wav')\n",
    "    audio2 = glob.glob(person2+'/*.wav')\n",
    "    audio1.extend(audio2)\n",
    "    audiolist = audio1\n",
    "\n",
    "    # Inicialización de los datos\n",
    "    mfcc_list = compute_mfccs(audiolist,6)\n",
    "    gmm_list = compute_gmms(mfcc_list,2)\n",
    "    data = compute_matrix(mfcc_list,gmm_list)\n",
    "\n",
    "    # Presentación de los datos iniciales\n",
    "    if show:\n",
    "        print('Matriz de datos iniciales:')\n",
    "        plot_data(data)\n",
    "\n",
    "    # Inicialización de los clusters\n",
    "    # Usamos una lista conteniendo una lista con su \n",
    "    # propio indice. Luego extendemos la lista con cada\n",
    "    # actualización del mapa. Finalmente resultan dos \n",
    "    # listas que representan los dos clusters finales\n",
    "    n = [[i] for i in range(0,40)]\n",
    "\n",
    "    for i in range(0,38):\n",
    "        # Encontramos el máximo en la matriz\n",
    "        pos = find_max(data,n)\n",
    "\n",
    "        # Debug de datos\n",
    "        #print(pos)\n",
    "        #print(n)\n",
    "\n",
    "        # Actualización de los datos de la lista de clusters\n",
    "        n[pos[0]].extend(n[pos[1]])\n",
    "        n.pop(pos[1])\n",
    "\n",
    "        # Actualización de los datos en la lista de MFCCs\n",
    "        mfcc_list = update_mfcc(pos, mfcc_list)\n",
    "\n",
    "        # Calculo de las gmms actualizadas\n",
    "        gmm_list = compute_gmms(mfcc_list,2)\n",
    "\n",
    "        # Calculo de la matriz de esta iteración\n",
    "        data = compute_matrix(mfcc_list,gmm_list)\n",
    "\n",
    "        # Visualización de los datos\n",
    "        #plot_data(data)\n",
    "\n",
    "    print('Clusters finales:')\n",
    "    print(n)\n",
    "\n",
    "    # Evaluación de los datos\n",
    "    n00 = (np.array(n[0])>=20)\n",
    "    n01 = (np.array(n[0])<=19)\n",
    "    n10 = (np.array(n[1])>=20)\n",
    "    n11 = (np.array(n[1])<=19)\n",
    "\n",
    "    if sum(n00)>sum(n01):\n",
    "        speaker1 = np.array(n[1])\n",
    "        speaker2 = np.array(n[0])\n",
    "    else:\n",
    "        speaker1 = np.array(n[0])\n",
    "        speaker2 = np.array(n[1])\n",
    "\n",
    "    precision1 = sum(speaker1<=19)/speaker1.shape[0]\n",
    "    recall1 = sum(speaker1<=19)/20\n",
    "    if show:\n",
    "        print(f'\\nPrecision: {precision1} Recall: {recall1}')\n",
    "\n",
    "    precision2 = sum(speaker2>=20)/speaker2.shape[0]\n",
    "    recall2 = sum(speaker2>=20)/20\n",
    "    if show:\n",
    "        print(f'\\nPrecision: {precision2} Recall: {recall2}')\n",
    "\n",
    "    p_total = (precision1+precision2)/2\n",
    "    r_total = (recall1+recall2)/2\n",
    "    \n",
    "    print(f'\\nValores finales: {p_total} {r_total}\\n')\n",
    "\n",
    "    return [p_total,r_total]"
   ]
  },
  {
   "cell_type": "code",
   "execution_count": null,
   "metadata": {},
   "outputs": [],
   "source": []
  },
  {
   "cell_type": "code",
   "execution_count": 17,
   "metadata": {},
   "outputs": [
    {
     "name": "stdout",
     "output_type": "stream",
     "text": [
      "Matriz de datos iniciales:\n"
     ]
    },
    {
     "data": {
      "image/png": "[encoded data removed]",
      "text/plain": [
       "<Figure size 720x720 with 2 Axes>"
      ]
     },
     "metadata": {},
     "output_type": "display_data"
    },
    {
     "name": "stdout",
     "output_type": "stream",
     "text": [
      "Clusters finales:\n",
      "[[0, 1, 7, 3, 5, 8, 9, 10, 14, 16, 18, 6, 15, 19, 4, 17, 12], [2, 11, 13, 20, 22, 21, 24, 32, 37, 38, 23, 25, 26, 35, 27, 30, 31, 28, 29, 36, 34, 39, 33]]\n",
      "\n",
      "Precision: 1.0 Recall: 0.85\n",
      "\n",
      "Precision: 0.8695652173913043 Recall: 1.0\n",
      "\n",
      "Valores finales: 0.9347826086956521 0.925\n",
      "\n"
     ]
    },
    {
     "data": {
      "text/plain": [
       "[0.9347826086956521, 0.925]"
      ]
     },
     "execution_count": 17,
     "metadata": {},
     "output_type": "execute_result"
    }
   ],
   "source": [
    "# Definición de las paths a las personas que vamos a usar en el análisis\n",
    "person1 = '/home/jc/speech_processing_notebooks/audios/speecon/BLOCK00/SES001'\n",
    "person2 = '/home/jc/speech_processing_notebooks/audios/speecon/BLOCK18/SES185'\n",
    "\n",
    "clustering(person1,person2)"
   ]
  },
  {
   "cell_type": "code",
   "execution_count": 18,
   "metadata": {},
   "outputs": [
    {
     "name": "stdout",
     "output_type": "stream",
     "text": [
      "Clusters finales:\n",
      "[[0, 1, 14, 7, 15, 18, 6, 8, 3, 4, 16, 5, 12, 9, 17, 19, 10, 13], [2, 11, 20, 21, 22, 24, 26, 32, 36, 23, 29, 39, 27, 30, 33, 28, 31, 34, 38, 25, 35, 37]]\n",
      "\n",
      "Valores finales: 0.9545454545454546 0.95\n",
      "\n",
      "Clusters finales:\n",
      "[[0, 18, 20, 23, 21, 22, 24, 31, 26, 29, 28, 34, 39, 25, 36, 32, 33, 27, 37, 30, 35, 38], [1, 2, 5, 12, 15, 4, 6, 16, 17, 7, 13, 9, 11, 3, 10, 8, 14, 19]]\n",
      "\n",
      "Valores finales: 0.9545454545454546 0.95\n",
      "\n",
      "Clusters finales:\n",
      "[[0, 20, 21, 28, 36, 22, 25, 27, 30, 31, 24, 35, 29, 37, 26, 34, 32, 33, 38, 39, 23], [1, 12, 15, 3, 5, 11, 6, 2, 8, 14, 16, 7, 10, 13, 4, 9, 17, 18, 19]]\n",
      "\n",
      "Valores finales: 0.9761904761904762 0.975\n",
      "\n",
      "Clusters finales:\n",
      "[[0, 18, 20, 25, 26, 31, 34, 21, 22, 24, 30, 32, 36, 27, 33, 35, 28, 37, 38, 23, 29, 39], [1, 15, 19, 5, 16, 6, 8, 2, 3, 12, 14, 9, 7, 13, 10, 17, 11, 4]]\n",
      "\n",
      "Valores finales: 0.9545454545454546 0.95\n",
      "\n",
      "Clusters finales:\n",
      "[[0, 1, 5, 13, 16, 18, 19, 11, 8, 6, 20, 29, 33, 34, 35, 38, 21, 27, 12, 23, 36, 24, 28, 32, 26, 39, 22, 30, 37, 25], [2, 14, 4, 7, 17, 9, 3, 10, 31, 15]]\n",
      "\n",
      "Valores finales: 0.7666666666666666 0.7\n",
      "\n",
      "Clusters finales:\n",
      "[[0, 19, 20, 21, 27, 29, 35, 30, 37, 22, 26, 36, 39, 31, 34, 32, 33, 23, 25, 38, 28, 24], [1, 3, 6, 8, 12, 14, 7, 10, 11, 2, 4, 5, 9, 16, 15, 17, 18, 13]]\n",
      "\n",
      "Valores finales: 0.9545454545454546 0.95\n",
      "\n",
      "Clusters finales:\n",
      "[[0, 16, 31, 20, 36, 21, 22, 23, 24, 35, 28, 30, 33, 34, 37, 39, 25, 26, 27, 29, 32, 38], [1, 2, 12, 3, 4, 9, 15, 14, 6, 13, 17, 19, 10, 7, 5, 8, 18, 11]]\n",
      "\n",
      "Valores finales: 0.9545454545454546 0.95\n",
      "\n",
      "Clusters finales:\n",
      "[[0, 18, 8, 13, 14, 6, 2, 7, 10, 12, 17, 20, 22, 23, 28, 33, 34, 29, 30, 27, 31, 25, 21, 32, 35, 26, 24, 39, 36, 37, 38], [1, 4, 5, 19, 16, 3, 9, 11, 15]]\n",
      "\n",
      "Valores finales: 0.8225806451612903 0.725\n",
      "\n",
      "Clusters finales:\n",
      "[[0, 15, 2, 5, 6, 8, 10, 16, 18, 7, 12, 3, 11, 13, 19, 14, 20, 21, 27, 29, 35, 30, 37, 22, 26, 34, 24, 36, 39, 31, 32, 33, 23, 25, 38, 28], [1, 4, 9, 17]]\n",
      "\n",
      "Valores finales: 0.7777777777777778 0.6\n",
      "\n",
      "Clusters finales:\n",
      "[[0, 3, 11, 2, 8, 13, 14, 10, 17, 19], [1, 18, 7, 12, 16, 6, 4, 9, 5, 15, 20, 21, 33, 22, 24, 27, 32, 26, 31, 37, 28, 30, 34, 29, 38, 39, 23, 25, 36, 35]]\n",
      "\n",
      "Valores finales: 0.8333333333333333 0.75\n",
      "\n",
      "\n",
      "Precision: 0.9943640190952022 Recall: 0.9444444444444444\n"
     ]
    }
   ],
   "source": [
    "# Lectura de los ficheros de speecon\n",
    "ficheros = glob.glob('/home/jc/pav/practica4/audios/speecon/*/*')\n",
    "\n",
    "# Variables para calcular metricas\n",
    "precision = 0\n",
    "recall = 0\n",
    "\n",
    "# Iteramos 10 veces (n experimentos)\n",
    "for count in range(0,10):\n",
    "    # Realizamos una muestra de los ficheros\n",
    "    paths = random.sample(ficheros,k=2)\n",
    "    # Guardamos las metricas\n",
    "    metrics = clustering(paths[0], paths[1], show=False)\n",
    "    precision += metrics[0]\n",
    "    recall += metrics[1]\n",
    "\n",
    "# Métricas finales    \n",
    "precision = precision/count\n",
    "recall = recall/count\n",
    "\n",
    "print(f'\\nPrecision: {precision} Recall: {recall}')"
   ]
  },
  {
   "cell_type": "code",
   "execution_count": null,
   "metadata": {},
   "outputs": [],
   "source": []
  }
 ],
 "metadata": {
  "kernelspec": {
   "display_name": "Python 3",
   "language": "python",
   "name": "python3"
  },
  "language_info": {
   "codemirror_mode": {
    "name": "ipython",
    "version": 3
   },
   "file_extension": ".py",
   "mimetype": "text/x-python",
   "name": "python",
   "nbconvert_exporter": "python",
   "pygments_lexer": "ipython3",
   "version": "3.7.3"
  }
 },
 "nbformat": 4,
 "nbformat_minor": 2
}
